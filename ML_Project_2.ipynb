{
  "cells": [
    {
      "cell_type": "markdown",
      "metadata": {
        "id": "DEqRWVMNQrXo",
        "papermill": {
          "duration": 0.009793,
          "end_time": "2020-09-02T17:23:46.009958",
          "exception": false,
          "start_time": "2020-09-02T17:23:46.000165",
          "status": "completed"
        },
        "tags": []
      },
      "source": [
        "### Import Libraries"
      ]
    },
    {
      "cell_type": "code",
      "execution_count": null,
      "metadata": {
        "execution": {
          "iopub.execute_input": "2020-09-02T17:23:46.040411Z",
          "iopub.status.busy": "2020-09-02T17:23:46.039271Z",
          "iopub.status.idle": "2020-09-02T17:23:54.061952Z",
          "shell.execute_reply": "2020-09-02T17:23:54.061253Z"
        },
        "id": "7_mwPKQFQrXq",
        "papermill": {
          "duration": 8.042339,
          "end_time": "2020-09-02T17:23:54.062089",
          "exception": false,
          "start_time": "2020-09-02T17:23:46.019750",
          "status": "completed"
        },
        "tags": []
      },
      "outputs": [],
      "source": [
        "import pandas as pd\n",
        "import numpy as np\n",
        "import scipy.sparse as sp\n",
        "from sklearn.model_selection import train_test_split\n",
        "import re\n",
        "import gc\n",
        "\n",
        "import warnings\n",
        "warnings.filterwarnings('ignore')\n",
        "from nltk.corpus import stopwords\n",
        "\n",
        "import pandas as pd\n",
        "import numpy as np\n",
        "from tqdm import tqdm\n",
        "\n",
        "import matplotlib.pyplot as plt\n",
        "import seaborn as sns\n",
        "\n",
        "import plotly.offline as py\n",
        "py.init_notebook_mode(connected=True)\n",
        "import plotly.graph_objs as go\n",
        "%matplotlib inline\n",
        "\n",
        "from sklearn.feature_extraction.text import TfidfVectorizer\n",
        "from sklearn.feature_extraction.text import CountVectorizer\n",
        "\n",
        "\n",
        "from sklearn.metrics import mean_squared_error as mse\n",
        "from math import sqrt\n",
        "from sklearn.linear_model import Ridge\n",
        "\n",
        "from scipy.sparse import csr_matrix, hstack\n",
        "from sklearn.feature_extraction.text import CountVectorizer\n",
        "from sklearn.preprocessing import StandardScaler\n",
        "from sklearn.model_selection import train_test_split\n",
        "  \n",
        "STOPWORDS = set(stopwords.words('english'))\n",
        "seed = 42"
      ]
    },
    {
      "cell_type": "markdown",
      "metadata": {
        "id": "BMr9UgSWQrXs",
        "papermill": {
          "duration": 0.006715,
          "end_time": "2020-09-02T17:23:54.076283",
          "exception": false,
          "start_time": "2020-09-02T17:23:54.069568",
          "status": "completed"
        },
        "tags": []
      },
      "source": [
        "### Process Raw Data"
      ]
    },
    {
      "cell_type": "code",
      "execution_count": null,
      "metadata": {
        "execution": {
          "iopub.execute_input": "2020-09-02T17:23:54.201270Z",
          "iopub.status.busy": "2020-09-02T17:23:54.200287Z",
          "iopub.status.idle": "2020-09-02T17:23:54.203592Z",
          "shell.execute_reply": "2020-09-02T17:23:54.203082Z"
        },
        "id": "PmnUaB3RQrXu",
        "papermill": {
          "duration": 0.018198,
          "end_time": "2020-09-02T17:23:54.203726",
          "exception": false,
          "start_time": "2020-09-02T17:23:54.185528",
          "status": "completed"
        },
        "tags": []
      },
      "outputs": [],
      "source": [
        "def decontracted(text):\n",
        "    text = re.sub(r\"won't\", \"will not\", text)\n",
        "    text = re.sub(r\"can\\'t\", \"can not\", text)\n",
        "    text = re.sub(r\"n\\'t\", \" not\", text)\n",
        "    text = re.sub(r\"\\'re\", \" are\", text)\n",
        "    text = re.sub(r\"\\'s\", \" is\", text)\n",
        "    text = re.sub(r\"\\'d\", \" would\", text)\n",
        "    text = re.sub(r\"\\'ll\", \" will\", text)\n",
        "    text = re.sub(r\"\\'t\", \" not\", text)\n",
        "    text = re.sub(r\"\\'ve\", \" have\", text)\n",
        "    text = re.sub(r\"\\'m\", \" am\", text)\n",
        "    return text"
      ]
    },
    {
      "cell_type": "code",
      "execution_count": null,
      "metadata": {
        "execution": {
          "iopub.execute_input": "2020-09-02T17:23:54.225954Z",
          "iopub.status.busy": "2020-09-02T17:23:54.225300Z",
          "iopub.status.idle": "2020-09-02T17:23:54.228414Z",
          "shell.execute_reply": "2020-09-02T17:23:54.227800Z"
        },
        "id": "wqoXu4WCQrXu",
        "papermill": {
          "duration": 0.017584,
          "end_time": "2020-09-02T17:23:54.228523",
          "exception": false,
          "start_time": "2020-09-02T17:23:54.210939",
          "status": "completed"
        },
        "tags": []
      },
      "outputs": [],
      "source": [
        "def process_text(data, cols):\n",
        "    for col in cols:\n",
        "        processed_data = []\n",
        "        \n",
        "        for sentence in data[col].values:\n",
        "            sent = decontracted(sentence)\n",
        "            sent = sent.replace('\\\\r', ' ')\n",
        "            sent = sent.replace('\\\\\"', ' ')\n",
        "            sent = sent.replace('\\\\n', ' ')\n",
        "            sent = re.sub('[^A-Za-z0-9]+', ' ', sent)\n",
        "            sent = sent.strip()\n",
        "            sent = ' '.join(e for e in sent.split() if e not in STOPWORDS)\n",
        "            processed_data.append(sent.lower().strip()) \n",
        "        data[col] = processed_data\n",
        "        \n",
        "    return data"
      ]
    },
    {
      "cell_type": "code",
      "execution_count": null,
      "metadata": {
        "execution": {
          "iopub.execute_input": "2020-09-02T17:23:54.347704Z",
          "iopub.status.busy": "2020-09-02T17:23:54.347071Z",
          "iopub.status.idle": "2020-09-02T17:23:54.349245Z",
          "shell.execute_reply": "2020-09-02T17:23:54.350073Z"
        },
        "id": "Zx-iucDbQrXv",
        "papermill": {
          "duration": 0.016682,
          "end_time": "2020-09-02T17:23:54.350237",
          "exception": false,
          "start_time": "2020-09-02T17:23:54.333555",
          "status": "completed"
        },
        "tags": []
      },
      "outputs": [],
      "source": [
        "def preprocess(data):\n",
        "    \n",
        "    data.fillna({'PRODUCT_NAME':'missing', 'PRODUCT_DESCRIPTION':'missing', 'PRODUCT_BRAND':' ', 'CATEGORY':'other/other/other'}, inplace=True)\n",
        "    for i in range(3):\n",
        "        def sub_cat(x):    \n",
        "            if type(x) != str:\n",
        "                return np.nan           \n",
        "            parts = x.split('/')     \n",
        "            if i >= len(parts):\n",
        "                return np.nan\n",
        "            else:\n",
        "                return parts[i]\n",
        "        field_name = 'CATEGORY_' + str(i)\n",
        "        data[field_name] = data['CATEGORY'].apply(sub_cat)\n",
        "    \n",
        "    data = process_text(data, ['PRODUCT_NAME', 'PRODUCT_DESCRIPTION'])\n",
        "    \n",
        "    data['NAME'] = data['PRODUCT_NAME'] + ' ' + data['PRODUCT_BRAND']\n",
        "    data['DESC'] = data['PRODUCT_NAME'] + ' ' + data['PRODUCT_DESCRIPTION']\n",
        "    data = data.drop(columns = ['PRODUCT_BRAND', 'PRODUCT_DESCRIPTION', 'CATEGORY'], axis = 1)\n",
        "    \n",
        "    return data"
      ]
    },
    {
      "cell_type": "code",
      "execution_count": null,
      "metadata": {
        "execution": {
          "iopub.execute_input": "2020-09-02T17:23:54.322331Z",
          "iopub.status.busy": "2020-09-02T17:23:54.321496Z",
          "iopub.status.idle": "2020-09-02T17:23:54.325198Z",
          "shell.execute_reply": "2020-09-02T17:23:54.324571Z"
        },
        "id": "4Qd3wcKvQrXv",
        "papermill": {
          "duration": 0.020347,
          "end_time": "2020-09-02T17:23:54.325332",
          "exception": false,
          "start_time": "2020-09-02T17:23:54.304985",
          "status": "completed"
        },
        "tags": []
      },
      "outputs": [],
      "source": [
        "def encode(train, test, valid):\n",
        "    vect_0 = CountVectorizer()\n",
        "    tr_category_0 = vect_0.fit_transform(train['CATEGORY_0'].values)\n",
        "    te_category_0 = vect_0.transform(test['CATEGORY_0'].values) \n",
        "    va_category_0 = vect_0.transform(valid['CATEGORY_0'].values)\n",
        "    \n",
        "    vect_1 = CountVectorizer()\n",
        "    tr_category_1 = vect_1.fit_transform(train['CATEGORY_1'].values)\n",
        "    te_category_1 = vect_1.transform(test['CATEGORY_1'].values)\n",
        "    va_category_1 = vect_1.transform(valid['CATEGORY_1'].values) \n",
        "    \n",
        "    vect_2 = CountVectorizer() \n",
        "    tr_category_2 = vect_2.fit_transform(train['CATEGORY_2'].values)\n",
        "    te_category_2 = vect_2.transform(test['CATEGORY_2'].values) \n",
        "    va_category_2 = vect_2.transform(valid['CATEGORY_2'].values) \n",
        "    \n",
        "    tr_trans = csr_matrix(pd.get_dummies(train[['SHIPPING_AVAILABILITY', 'PRODUCT_CONDITION']], sparse=True).values)\n",
        "    te_trans = csr_matrix(pd.get_dummies(test[['SHIPPING_AVAILABILITY', 'PRODUCT_CONDITION']], sparse=True).values)\n",
        "    va_trans = csr_matrix(pd.get_dummies(valid[['SHIPPING_AVAILABILITY', 'PRODUCT_CONDITION']], sparse=True).values)\n",
        "    \n",
        "    Tfidf_name = TfidfVectorizer(min_df = 10, ngram_range = (1, 1), max_features = 1000000) \n",
        "    tr_name = Tfidf_name.fit_transform(train['NAME'].values)\n",
        "    te_name = Tfidf_name.transform(test['NAME'].values)\n",
        "    va_name = Tfidf_name.transform(valid['NAME'].values)\n",
        "\n",
        "    Tfidf_desc = TfidfVectorizer(min_df = 10, ngram_range = (1, 1), max_features = 1000000) \n",
        "    \n",
        "    tr_desc = Tfidf_desc.fit_transform(train['DESC'].values)\n",
        "    te_desc = Tfidf_desc.transform(test['DESC'].values)\n",
        "    va_desc = Tfidf_desc.transform(valid['DESC'].values)\n",
        "\n",
        "    train_data = hstack((tr_category_0, tr_category_1, tr_category_2, tr_trans, tr_name, tr_desc)).tocsr().astype('float32')\n",
        "\n",
        "    test_data = hstack((te_category_0, te_category_1, te_category_2, te_trans, te_name, te_desc)).tocsr().astype('float32')\n",
        "    \n",
        "    valid_data = hstack((va_category_0, va_category_1, va_category_2, va_trans, va_name, va_desc)).tocsr().astype('float32')\n",
        "    \n",
        "    del train, tr_category_0, tr_category_1, tr_category_2, tr_trans, tr_name, tr_desc\n",
        "    del test, te_category_0, te_category_1, te_category_2, te_trans, te_name, te_desc\n",
        "    del valid, va_category_0, va_category_1, va_category_2, va_trans, va_name, va_desc\n",
        "    gc.collect()\n",
        "\n",
        "    return train_data, test_data, valid_data"
      ]
    },
    {
      "cell_type": "markdown",
      "metadata": {},
      "source": [
        "## Data "
      ]
    },
    {
      "cell_type": "code",
      "execution_count": null,
      "metadata": {
        "execution": {
          "iopub.execute_input": "2020-09-02T17:23:54.466774Z",
          "iopub.status.busy": "2020-09-02T17:23:54.466139Z",
          "iopub.status.idle": "2020-09-02T17:23:54.468248Z",
          "shell.execute_reply": "2020-09-02T17:23:54.468728Z"
        },
        "id": "6BvQ1RhQQrXx",
        "papermill": {
          "duration": 0.013289,
          "end_time": "2020-09-02T17:23:54.468864",
          "exception": false,
          "start_time": "2020-09-02T17:23:54.455575",
          "status": "completed"
        },
        "tags": []
      },
      "outputs": [],
      "source": [
        "train = pd.read_csv(\"train.csv\")\n",
        "test = pd.read_csv(\"test.csv\")"
      ]
    },
    {
      "cell_type": "code",
      "execution_count": null,
      "metadata": {
        "colab": {
          "base_uri": "https://localhost:8080/"
        },
        "execution": {
          "iopub.execute_input": "2020-09-02T17:23:54.486887Z",
          "iopub.status.busy": "2020-09-02T17:23:54.486275Z",
          "iopub.status.idle": "2020-09-02T17:23:54.489577Z",
          "shell.execute_reply": "2020-09-02T17:23:54.490083Z"
        },
        "id": "eYfJ4W8eQrXx",
        "outputId": "d9282251-2e8c-4944-ebd9-eefdd3432e6b",
        "papermill": {
          "duration": 0.014046,
          "end_time": "2020-09-02T17:23:54.490224",
          "exception": false,
          "start_time": "2020-09-02T17:23:54.476178",
          "status": "completed"
        },
        "tags": []
      },
      "outputs": [],
      "source": [
        "print(train.shape)\n",
        "print(test.shape)"
      ]
    },
    {
      "cell_type": "markdown",
      "metadata": {
        "id": "Rh1JSVxxQrXy",
        "papermill": {
          "duration": 0.007128,
          "end_time": "2020-09-02T17:23:54.504999",
          "exception": false,
          "start_time": "2020-09-02T17:23:54.497871",
          "status": "completed"
        },
        "tags": []
      },
      "source": [
        "### Processing Data"
      ]
    },
    {
      "cell_type": "code",
      "execution_count": null,
      "metadata": {},
      "outputs": [],
      "source": [
        "brand_name = train[\"PRODUCT_BRAND\"]\n",
        "desc_data = train[\"PRODUCT_DESCRIPTION\"]\n",
        "price_data = train[\"PRODUCT_PRICE\"]\n",
        "train[\"log_Price\"] = np.log(train[\"PRODUCT_PRICE\"] + 1)"
      ]
    },
    {
      "cell_type": "code",
      "execution_count": null,
      "metadata": {
        "execution": {
          "iopub.execute_input": "2020-09-02T17:23:54.522910Z",
          "iopub.status.busy": "2020-09-02T17:23:54.522278Z",
          "iopub.status.idle": "2020-09-02T17:23:54.525182Z",
          "shell.execute_reply": "2020-09-02T17:23:54.525602Z"
        },
        "id": "dtDEtSxjQrXy",
        "papermill": {
          "duration": 0.013219,
          "end_time": "2020-09-02T17:23:54.525795",
          "exception": false,
          "start_time": "2020-09-02T17:23:54.512576",
          "status": "completed"
        },
        "tags": []
      },
      "outputs": [],
      "source": [
        "train = preprocess(train)"
      ]
    },
    {
      "cell_type": "code",
      "execution_count": null,
      "metadata": {
        "execution": {
          "iopub.execute_input": "2020-09-02T17:23:54.543843Z",
          "iopub.status.busy": "2020-09-02T17:23:54.543231Z",
          "iopub.status.idle": "2020-09-02T17:23:54.546077Z",
          "shell.execute_reply": "2020-09-02T17:23:54.546503Z"
        },
        "id": "dPOKePwUQrXy",
        "papermill": {
          "duration": 0.013406,
          "end_time": "2020-09-02T17:23:54.546657",
          "exception": false,
          "start_time": "2020-09-02T17:23:54.533251",
          "status": "completed"
        },
        "tags": []
      },
      "outputs": [],
      "source": [
        "test = preprocess(test)"
      ]
    },
    {
      "cell_type": "markdown",
      "metadata": {},
      "source": [
        "## Exploratory Data Analysis"
      ]
    },
    {
      "cell_type": "code",
      "execution_count": null,
      "metadata": {},
      "outputs": [],
      "source": [
        "x = train['CATEGORY_0'].value_counts().index.values.astype('str')\n",
        "y = train['CATEGORY_0'].value_counts().values\n",
        "pct = [(\"%.2f\"%(v*100))+\"%\"for v in (y/len(train))]"
      ]
    },
    {
      "cell_type": "code",
      "execution_count": null,
      "metadata": {},
      "outputs": [],
      "source": [
        "cat_0 = train.CATEGORY_0\n",
        "order = sorted(cat_0.unique())\n",
        "fig, ax = plt.subplots(1, 2, figsize = (15, 10))\n",
        "sns.boxplot(x = train.log_Price, y = cat_0, orient = \"h\", order = order, ax = ax[0])\n",
        "ax[0].set_title(\"Log Price Base On CATEGORY_0\", fontsize = 20)\n",
        "ax[0].set_ylabel(\"Categories\", fontsize = 15)\n",
        "sns.barplot(x = cat_0.value_counts().values,y =  cat_0.value_counts().index, order = order, ax = ax[1])\n",
        "ax[1].set_title(\"Number of items in each category\", fontsize = 20)\n",
        "plt.show()"
      ]
    },
    {
      "cell_type": "code",
      "execution_count": null,
      "metadata": {},
      "outputs": [],
      "source": [
        "trace1 = go.Bar(x=x, y=y, text=pct)\n",
        "layout = dict(title= 'Item Distribution in Category_0',\n",
        "              yaxis = dict(title='Count'),\n",
        "              xaxis = dict(title='Category_0'))\n",
        "fig=dict(data=[trace1], layout=layout)\n",
        "py.iplot(fig)"
      ]
    },
    {
      "cell_type": "code",
      "execution_count": null,
      "metadata": {},
      "outputs": [],
      "source": [
        "x = train['CATEGORY_1'].value_counts().index.values.astype('str')[:15]\n",
        "y = train['CATEGORY_1'].value_counts().values[:15]\n",
        "pct = [(\"%.2f\"%(v*100))+\"%\"for v in (y/len(train))][:15]"
      ]
    },
    {
      "cell_type": "code",
      "execution_count": null,
      "metadata": {},
      "outputs": [],
      "source": [
        "trace1 = go.Bar(x=x, y=y, text=pct,\n",
        "                marker=dict(\n",
        "                color = y,colorscale='Portland',showscale=True,\n",
        "                reversescale = False\n",
        "                ))\n",
        "layout = dict(title= 'Item Distribution in Category 1 (Top 15)',\n",
        "              yaxis = dict(title='Count'),\n",
        "              xaxis = dict(title='Category_1'))\n",
        "fig=dict(data=[trace1], layout=layout)\n",
        "py.iplot(fig)"
      ]
    },
    {
      "cell_type": "code",
      "execution_count": null,
      "metadata": {},
      "outputs": [],
      "source": [
        "x = train['CATEGORY_2'].value_counts().index.values.astype('str')[:15]\n",
        "y = train['CATEGORY_2'].value_counts().values[:15]\n",
        "pct = [(\"%.2f\"%(v*100))+\"%\"for v in (y/len(train))][:15]"
      ]
    },
    {
      "cell_type": "code",
      "execution_count": null,
      "metadata": {},
      "outputs": [],
      "source": [
        "trace1 = go.Bar(x=x, y=y, text=pct,\n",
        "                marker=dict(\n",
        "                color = y,colorscale='Portland',showscale=True,\n",
        "                reversescale = False\n",
        "                ))\n",
        "layout = dict(title= 'Item Distribution in Category 2 (Top 15)',\n",
        "              yaxis = dict(title='Count'),\n",
        "              xaxis = dict(title='Category_2'))\n",
        "fig=dict(data=[trace1], layout=layout)\n",
        "py.iplot(fig)"
      ]
    },
    {
      "cell_type": "code",
      "execution_count": null,
      "metadata": {},
      "outputs": [],
      "source": [
        "Cat_0 = train['CATEGORY_0'].unique()\n",
        "x = [train.loc[train['CATEGORY_0']==cat, 'PRODUCT_PRICE'] for cat in Cat_0]"
      ]
    },
    {
      "cell_type": "code",
      "execution_count": null,
      "metadata": {},
      "outputs": [],
      "source": [
        "data = [go.Box(x=np.log(x[i]+1), name=Cat_0[i]) for i in range(len(Cat_0))]"
      ]
    },
    {
      "cell_type": "code",
      "execution_count": null,
      "metadata": {},
      "outputs": [],
      "source": [
        "layout = dict(title=\"Price Distribution by Category_0\",\n",
        "              yaxis = dict(title='Frequency'),\n",
        "              xaxis = dict(title='Category'))\n",
        "fig = dict(data=data, layout=layout)\n",
        "py.iplot(fig)"
      ]
    },
    {
      "cell_type": "code",
      "execution_count": null,
      "metadata": {},
      "outputs": [],
      "source": [
        "plt.subplot(1, 2, 1)\n",
        "(train['PRODUCT_PRICE']).plot.hist(bins=50, figsize=(15,8),range=[0,250])\n",
        "plt.xlabel('PRODUCT_PRICE+', fontsize=12)\n",
        "plt.ylabel('frequency', fontsize=12)\n",
        "plt.tick_params(labelsize=12)\n",
        "plt.title('Price Distribution - Training Set', fontsize=17)\n",
        "\n",
        "plt.subplot(1, 2, 2)\n",
        "np.log(train['PRODUCT_PRICE']+1).plot.hist(bins=50, figsize=(15,8))\n",
        "plt.xlabel('log(PRODUCT_PRICE+1)', fontsize=12)\n",
        "plt.ylabel('frequency', fontsize=12)\n",
        "plt.tick_params(labelsize=12)\n",
        "plt.title('Log(Price) Distribution - Training Set', fontsize=12)\n",
        "plt.show()"
      ]
    },
    {
      "cell_type": "code",
      "execution_count": null,
      "metadata": {},
      "outputs": [],
      "source": [
        "train.SHIPPING_AVAILABILITY.value_counts()/len(train)"
      ]
    },
    {
      "cell_type": "code",
      "execution_count": null,
      "metadata": {},
      "outputs": [],
      "source": [
        "plt.figure(figsize = (15, 8))\n",
        "plt.hist(train[train.SHIPPING_AVAILABILITY == 1].log_Price, bins = 50, alpha = 0.5, label = \"log price with free shipping\")\n",
        "plt.hist(train[train.SHIPPING_AVAILABILITY == 0].log_Price, bins = 50, alpha = 0.5, label = \"log price with shipping\")\n",
        "plt.legend(fontsize = 10)\n",
        "plt.show()"
      ]
    },
    {
      "cell_type": "code",
      "execution_count": null,
      "metadata": {},
      "outputs": [],
      "source": [
        "print(\"There are %d unique values in the category 0 column.\" % train['CATEGORY_0'].nunique())"
      ]
    },
    {
      "cell_type": "code",
      "execution_count": null,
      "metadata": {},
      "outputs": [],
      "source": [
        "print(\"There are %d unique values in category 1.\" % train['CATEGORY_1'].nunique())"
      ]
    },
    {
      "cell_type": "code",
      "execution_count": null,
      "metadata": {},
      "outputs": [],
      "source": [
        "print(\"There are %d unique values in category 2.\" % train['CATEGORY_2'].nunique())"
      ]
    },
    {
      "cell_type": "code",
      "execution_count": null,
      "metadata": {},
      "outputs": [],
      "source": [
        "fog, ax = plt.subplots(1, 5, figsize = (15, 8))\n",
        "for i in range(1, 6):\n",
        "    train[train.PRODUCT_CONDITION == i].log_Price.plot.hist(ax = ax[i-1], bins = 50, alpha = 0.5)  \n",
        "    ax[i-1].set_xlabel(\"Log Price\")\n",
        "    ax[i-1].set_title(\"Item Condition Id = \" + \" \" + str(i))\n",
        "plt.show()"
      ]
    },
    {
      "cell_type": "code",
      "execution_count": null,
      "metadata": {},
      "outputs": [],
      "source": [
        "brand = brand_name.value_counts()\n",
        "print(\"There are\", brand.size, \"unique known brands.\")"
      ]
    },
    {
      "cell_type": "code",
      "execution_count": null,
      "metadata": {},
      "outputs": [],
      "source": [
        "plt.figure(figsize = (10, 10))\n",
        "sns.barplot(x = brand[1:11].values, y = brand[1:11].index)\n",
        "plt.title(\"Top 10 known brand in store\")\n",
        "plt.show()"
      ]
    },
    {
      "cell_type": "code",
      "execution_count": null,
      "metadata": {},
      "outputs": [],
      "source": [
        "brands = [\"Nike\",\"PINK\",  \"Victoria's Secret\", \"LuLaRoe\"]\n",
        "nbrand = len(brands)\n",
        "\n",
        "fig, ax = plt.subplots(2, 2, figsize = (15, 10))\n",
        "for b in range(nbrand):\n",
        "    brand = brands[b]\n",
        "    for i in range(1, 6):\n",
        "        sns.distplot(train[brand_name == brand][train[\"PRODUCT_CONDITION\"] == i].log_Price, hist = False,\n",
        "                     label = \"PRODUCT_CONDITION = \" + \" \" + str(i), ax = ax[int(b/2)][b%2])\n",
        "    ax[int(b/2)][b%2].set_xlabel(\"Log Price\")\n",
        "    ax[int(b/2)][b%2].set_title(\"Price of \" + brand + \" in each item condition\")\n",
        "plt.show()"
      ]
    },
    {
      "cell_type": "code",
      "execution_count": null,
      "metadata": {},
      "outputs": [],
      "source": [
        "mean_cat1_price = pd.DataFrame(train.groupby([\"CATEGORY_1\"]).PRODUCT_PRICE.mean())\n",
        "mean_cat1_price = mean_cat1_price.sort_values(by = \"PRODUCT_PRICE\", ascending = False)[:10]\n",
        "mean_cat1_price.reset_index(level = 0, inplace = True)\n",
        "\n",
        "plt.figure(figsize = (10, 5))\n",
        "sns.barplot(x = \"PRODUCT_PRICE\", y = \"CATEGORY_1\", data = mean_cat1_price, orient = \"h\")\n",
        "plt.title(\"Mean Price Base On CATEGORY_1 (Top 10)\", fontsize = 20)\n",
        "plt.ylabel(\"Subcategories\", fontsize = 20)\n",
        "plt.xlabel(\"Price\", fontsize = 20)\n",
        "plt.show()"
      ]
    },
    {
      "cell_type": "code",
      "execution_count": null,
      "metadata": {
        "colab": {
          "base_uri": "https://localhost:8080/"
        },
        "id": "Rr5amkMaQrXy",
        "outputId": "8f69a9e2-3399-4817-ef4b-656e5adc15dc"
      },
      "outputs": [],
      "source": [
        "y_tr = np.log1p(train['PRODUCT_PRICE'])\n",
        "train.drop(['PRODUCT_PRICE'], axis=1, inplace=True)\n",
        "train.drop(['log_Price'], axis=1, inplace=True)\n",
        "X_train, X_valid , y_train, y_valid = train_test_split(train, y_tr, test_size=0.15, random_state=42)\n",
        "\n",
        "print('Train size: {}, Valid size: {}, Test size: {}' .format(y_train.shape, y_valid.shape, test.shape))"
      ]
    },
    {
      "cell_type": "code",
      "execution_count": null,
      "metadata": {
        "colab": {
          "base_uri": "https://localhost:8080/",
          "height": 337
        },
        "id": "ElJrcCyLQrXz",
        "outputId": "f3ac753c-4973-42d3-e406-d112152f11b9"
      },
      "outputs": [],
      "source": [
        "train.head()"
      ]
    },
    {
      "cell_type": "markdown",
      "metadata": {
        "id": "2iLSbKtYQrXz",
        "papermill": {
          "duration": 0.00717,
          "end_time": "2020-09-02T17:23:54.584037",
          "exception": false,
          "start_time": "2020-09-02T17:23:54.576867",
          "status": "completed"
        },
        "tags": []
      },
      "source": [
        "### Generating Encodings"
      ]
    },
    {
      "cell_type": "code",
      "execution_count": null,
      "metadata": {
        "id": "01KDahUoQrXz"
      },
      "outputs": [],
      "source": [
        "X_train, X_test, X_valid = encode(X_train, test, X_valid)"
      ]
    },
    {
      "cell_type": "code",
      "execution_count": null,
      "metadata": {
        "colab": {
          "base_uri": "https://localhost:8080/"
        },
        "execution": {
          "iopub.execute_input": "2020-09-02T17:23:54.781455Z",
          "iopub.status.busy": "2020-09-02T17:23:54.780844Z",
          "iopub.status.idle": "2020-09-02T17:23:54.783310Z",
          "shell.execute_reply": "2020-09-02T17:23:54.783731Z"
        },
        "id": "EZHhnzZlQrXz",
        "outputId": "f1357455-bbd3-4e99-8315-7dcec74e48bf",
        "papermill": {
          "duration": 0.014992,
          "end_time": "2020-09-02T17:23:54.783895",
          "exception": false,
          "start_time": "2020-09-02T17:23:54.768903",
          "status": "completed"
        },
        "tags": []
      },
      "outputs": [],
      "source": [
        "print('Train size: {}, valid size: {}, Test size: {}' .format(X_train.shape, X_valid.shape, X_test.shape))"
      ]
    },
    {
      "cell_type": "code",
      "execution_count": null,
      "metadata": {
        "colab": {
          "base_uri": "https://localhost:8080/",
          "height": 416
        },
        "id": "ilNchauuQrX0",
        "outputId": "22bee02c-5b62-4fe2-8388-889ad927b6b2"
      },
      "outputs": [],
      "source": [
        "x = [1.25,1.5,1.75,2,2.1,2.2,2.5,3]\n",
        "y = [] \n",
        "for i in tqdm(x):\n",
        "    model = Ridge(solver=\"auto\", random_state=42, alpha=i)\n",
        "    model.fit(X_train, y_train)\n",
        "    valid_preds = model.predict(X_valid)\n",
        "    loss = (sqrt(mse(y_valid, valid_preds)))\n",
        "    y.append(loss)\n",
        "    print ('RMSLE for alpha = ',i,'is',loss)\n",
        "    \n",
        "Alpha = np.argmin(y)"
      ]
    },
    {
      "cell_type": "code",
      "execution_count": null,
      "metadata": {},
      "outputs": [],
      "source": [
        "fig, ax = plt.subplots()\n",
        "ax.plot(x, y)\n",
        "ax.scatter(x, y)\n",
        "for i, txt in enumerate(np.round(y,3)):\n",
        "    ax.annotate((x[i],np.round(txt,3)), (x[i],y[i]))\n",
        "\n",
        "plt.title(\"RMSLE for each alpha\")\n",
        "plt.xlabel(\"Alpha\")\n",
        "plt.ylabel(\"Error\")\n",
        "plt.show()"
      ]
    },
    {
      "cell_type": "code",
      "execution_count": null,
      "metadata": {
        "id": "jcgqq7d5QrX0"
      },
      "outputs": [],
      "source": [
        "print(\"Best alpha: \",  x[Alpha])\n",
        "model = Ridge(solver=\"auto\", random_state=42, alpha=x[Alpha])\n",
        "model.fit(X_train, y_train)\n",
        "\n",
        "preds_tr = model.predict(X_train)\n",
        "preds_va = model.predict(X_valid)\n",
        "preds_te = model.predict(X_test)\n",
        "print('Train RMSLE:', sqrt(mse(y_train, preds_tr)))\n",
        "\n",
        "error = sqrt(mse(y_valid, preds_va))\n",
        "print(\"Cross validation RMSLE: \", error)"
      ]
    },
    {
      "cell_type": "code",
      "execution_count": null,
      "metadata": {},
      "outputs": [],
      "source": [
        "model = Ridge(solver=\"auto\", random_state=42, alpha=2.1)\n",
        "x_train = sp.vstack((X_train, X_valid))\n",
        "Y_train = pd.concat([y_train, y_valid])\n",
        "model.fit(x_train, Y_train)\n",
        "\n",
        "preds_te = model.predict(X_test)\n",
        "result = np.expm1(preds_te)"
      ]
    },
    {
      "cell_type": "code",
      "execution_count": null,
      "metadata": {},
      "outputs": [],
      "source": [
        "file = pd.DataFrame({'PRODUCT_ID' : test.PRODUCT_ID.values, 'PRODUCT_PRICE' : result})\n",
        "file.to_csv('submission.csv', index = False)"
      ]
    }
  ],
  "metadata": {
    "colab": {
      "provenance": []
    },
    "kernelspec": {
      "display_name": "Python 3.9.13 64-bit (microsoft store)",
      "language": "python",
      "name": "python3"
    },
    "language_info": {
      "codemirror_mode": {
        "name": "ipython",
        "version": 3
      },
      "file_extension": ".py",
      "mimetype": "text/x-python",
      "name": "python",
      "nbconvert_exporter": "python",
      "pygments_lexer": "ipython3",
      "version": "3.9.13"
    },
    "papermill": {
      "duration": 22.750773,
      "end_time": "2020-09-02T17:24:03.595806",
      "environment_variables": {},
      "exception": null,
      "input_path": "__notebook__.ipynb",
      "output_path": "__notebook__.ipynb",
      "parameters": {},
      "start_time": "2020-09-02T17:23:40.845033",
      "version": "2.1.0"
    },
    "vscode": {
      "interpreter": {
        "hash": "9b935e111eebb3405321e04ec7ed0864c84833d4433b415f266713259f6b6220"
      }
    }
  },
  "nbformat": 4,
  "nbformat_minor": 0
}
