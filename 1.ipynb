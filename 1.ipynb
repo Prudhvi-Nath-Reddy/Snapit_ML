{
 "cells": [
  {
   "cell_type": "markdown",
   "metadata": {},
   "source": [
    "# Imports\n",
    "\n",
    "\n"
   ]
  },
  {
   "cell_type": "code",
   "execution_count": 62,
   "metadata": {},
   "outputs": [],
   "source": [
    "import numpy as np\n",
    "import pandas as pd\n",
    "import matplotlib.pyplot as plt\n",
    "import seaborn as sns \n",
    "import sklearn.preprocessing as preprocessing \n",
    "\n",
    "main_df = pd.read_csv(\"train.csv\")\n"
   ]
  },
  {
   "cell_type": "markdown",
   "metadata": {},
   "source": [
    "# Preprocessing"
   ]
  },
  {
   "cell_type": "markdown",
   "metadata": {},
   "source": [
    "### Null values and extra values"
   ]
  },
  {
   "cell_type": "code",
   "execution_count": 63,
   "metadata": {},
   "outputs": [
    {
     "data": {
      "text/plain": [
       "PRODUCT_ID                    0\n",
       "PRODUCT_NAME                  0\n",
       "PRODUCT_CONDITION             0\n",
       "CATEGORY                   5416\n",
       "PRODUCT_BRAND            537885\n",
       "SHIPPING_AVAILABILITY         0\n",
       "PRODUCT_DESCRIPTION           3\n",
       "PRODUCT_PRICE                 0\n",
       "dtype: int64"
      ]
     },
     "execution_count": 63,
     "metadata": {},
     "output_type": "execute_result"
    }
   ],
   "source": [
    "main_df.isna().sum()\n"
   ]
  },
  {
   "cell_type": "markdown",
   "metadata": {},
   "source": [
    "#### replacing rm values with nan to remove "
   ]
  },
  {
   "cell_type": "code",
   "execution_count": 64,
   "metadata": {},
   "outputs": [
    {
     "data": {
      "text/plain": [
       "PRODUCT_ID               0\n",
       "PRODUCT_NAME             0\n",
       "PRODUCT_CONDITION        0\n",
       "CATEGORY                 0\n",
       "PRODUCT_BRAND            0\n",
       "SHIPPING_AVAILABILITY    0\n",
       "PRODUCT_DESCRIPTION      0\n",
       "PRODUCT_PRICE            0\n",
       "dtype: int64"
      ]
     },
     "execution_count": 64,
     "metadata": {},
     "output_type": "execute_result"
    }
   ],
   "source": [
    "main_df['PRODUCT_NAME'].replace('[rm]',np.nan,inplace= True )\n",
    "main_df['PRODUCT_DESCRIPTION'].replace('[rm]',np.nan,inplace= True )\n",
    "(main_df == \"[rm]\").sum()"
   ]
  },
  {
   "cell_type": "markdown",
   "metadata": {},
   "source": [
    "#### dropping null valued rows"
   ]
  },
  {
   "cell_type": "code",
   "execution_count": 65,
   "metadata": {},
   "outputs": [
    {
     "data": {
      "text/plain": [
       "PRODUCT_ID                    0\n",
       "PRODUCT_NAME                  0\n",
       "PRODUCT_CONDITION             0\n",
       "CATEGORY                      0\n",
       "PRODUCT_BRAND            534877\n",
       "SHIPPING_AVAILABILITY         0\n",
       "PRODUCT_DESCRIPTION           0\n",
       "PRODUCT_PRICE                 0\n",
       "dtype: int64"
      ]
     },
     "execution_count": 65,
     "metadata": {},
     "output_type": "execute_result"
    }
   ],
   "source": [
    "\n",
    "main_df.drop(axis=\"rows\", labels=main_df.index[main_df[\"CATEGORY\"].isna()], inplace=True)\n",
    "main_df.drop(axis=\"rows\", labels=main_df.index[main_df[\"PRODUCT_DESCRIPTION\"].isna()], inplace=True)\n",
    "main_df.drop(axis=\"rows\", labels=main_df.index[main_df[\"PRODUCT_NAME\"].isna()], inplace=True)\n",
    "main_df.isna().sum()"
   ]
  },
  {
   "cell_type": "markdown",
   "metadata": {},
   "source": [
    "#### deleting column because of 50% null values and cant fill with any other thing"
   ]
  },
  {
   "cell_type": "code",
   "execution_count": 66,
   "metadata": {},
   "outputs": [
    {
     "data": {
      "text/html": [
       "<div>\n",
       "<style scoped>\n",
       "    .dataframe tbody tr th:only-of-type {\n",
       "        vertical-align: middle;\n",
       "    }\n",
       "\n",
       "    .dataframe tbody tr th {\n",
       "        vertical-align: top;\n",
       "    }\n",
       "\n",
       "    .dataframe thead th {\n",
       "        text-align: right;\n",
       "    }\n",
       "</style>\n",
       "<table border=\"1\" class=\"dataframe\">\n",
       "  <thead>\n",
       "    <tr style=\"text-align: right;\">\n",
       "      <th></th>\n",
       "      <th>PRODUCT_ID</th>\n",
       "      <th>PRODUCT_NAME</th>\n",
       "      <th>PRODUCT_CONDITION</th>\n",
       "      <th>CATEGORY</th>\n",
       "      <th>SHIPPING_AVAILABILITY</th>\n",
       "      <th>PRODUCT_DESCRIPTION</th>\n",
       "      <th>PRODUCT_PRICE</th>\n",
       "    </tr>\n",
       "  </thead>\n",
       "  <tbody>\n",
       "    <tr>\n",
       "      <th>0</th>\n",
       "      <td>952289</td>\n",
       "      <td>Lipstick queen reserved maiwu</td>\n",
       "      <td>4</td>\n",
       "      <td>Beauty/Makeup/Lips</td>\n",
       "      <td>0</td>\n",
       "      <td>Lipstick Queen Jean Queen and medieval lipstic...</td>\n",
       "      <td>20.0</td>\n",
       "    </tr>\n",
       "    <tr>\n",
       "      <th>1</th>\n",
       "      <td>121903</td>\n",
       "      <td>Garbage Pail Kids blu ray</td>\n",
       "      <td>3</td>\n",
       "      <td>Electronics/Media/Blu-Ray</td>\n",
       "      <td>1</td>\n",
       "      <td>26Plays great. Tested. Watched once. No scratc...</td>\n",
       "      <td>15.0</td>\n",
       "    </tr>\n",
       "    <tr>\n",
       "      <th>2</th>\n",
       "      <td>280534</td>\n",
       "      <td>green floam/slime</td>\n",
       "      <td>1</td>\n",
       "      <td>Kids/Toys/Arts &amp; Crafts</td>\n",
       "      <td>0</td>\n",
       "      <td>-6 oz, dragon fruit scented - KEEP OUT OF REAC...</td>\n",
       "      <td>8.0</td>\n",
       "    </tr>\n",
       "    <tr>\n",
       "      <th>3</th>\n",
       "      <td>787961</td>\n",
       "      <td>Wallet beige monogram</td>\n",
       "      <td>1</td>\n",
       "      <td>Women/Women's Accessories/Wallets</td>\n",
       "      <td>0</td>\n",
       "      <td>Wallet brand new never used</td>\n",
       "      <td>31.0</td>\n",
       "    </tr>\n",
       "    <tr>\n",
       "      <th>4</th>\n",
       "      <td>479292</td>\n",
       "      <td>Triangle Bike Or Body Blue Light</td>\n",
       "      <td>3</td>\n",
       "      <td>Sports &amp; Outdoors/Outdoors/Other</td>\n",
       "      <td>0</td>\n",
       "      <td>Triangle Bike Or Body Blue Light, steady or fl...</td>\n",
       "      <td>8.0</td>\n",
       "    </tr>\n",
       "    <tr>\n",
       "      <th>...</th>\n",
       "      <td>...</td>\n",
       "      <td>...</td>\n",
       "      <td>...</td>\n",
       "      <td>...</td>\n",
       "      <td>...</td>\n",
       "      <td>...</td>\n",
       "      <td>...</td>\n",
       "    </tr>\n",
       "    <tr>\n",
       "      <th>1260149</th>\n",
       "      <td>259178</td>\n",
       "      <td>Brooks brothers girls</td>\n",
       "      <td>3</td>\n",
       "      <td>Kids/Girls (4+)/Dresses</td>\n",
       "      <td>0</td>\n",
       "      <td>Beautiful dress, another of her favorites. Sz....</td>\n",
       "      <td>12.0</td>\n",
       "    </tr>\n",
       "    <tr>\n",
       "      <th>1260150</th>\n",
       "      <td>1414414</td>\n",
       "      <td>LulaRoe Randy size Large</td>\n",
       "      <td>1</td>\n",
       "      <td>Women/Tops &amp; Blouses/Knit Top</td>\n",
       "      <td>0</td>\n",
       "      <td>Brand new, never worn or washed, size Large, N...</td>\n",
       "      <td>34.0</td>\n",
       "    </tr>\n",
       "    <tr>\n",
       "      <th>1260151</th>\n",
       "      <td>131932</td>\n",
       "      <td>This sale is</td>\n",
       "      <td>1</td>\n",
       "      <td>Kids/Toys/Dolls &amp; Accessories</td>\n",
       "      <td>0</td>\n",
       "      <td>American girl doll Tenney. Comes with the doll...</td>\n",
       "      <td>99.0</td>\n",
       "    </tr>\n",
       "    <tr>\n",
       "      <th>1260152</th>\n",
       "      <td>671155</td>\n",
       "      <td>Iphone headphone lightning cable split</td>\n",
       "      <td>1</td>\n",
       "      <td>Electronics/Cell Phones &amp; Accessories/Cables &amp;...</td>\n",
       "      <td>0</td>\n",
       "      <td>No description yet</td>\n",
       "      <td>9.0</td>\n",
       "    </tr>\n",
       "    <tr>\n",
       "      <th>1260153</th>\n",
       "      <td>121958</td>\n",
       "      <td>Glass Replacement Available iPhone 4,5,6</td>\n",
       "      <td>1</td>\n",
       "      <td>Electronics/Cell Phones &amp; Accessories/Cell Pho...</td>\n",
       "      <td>1</td>\n",
       "      <td>Glass Replacement available iPhone 4, 5, 6, 6,...</td>\n",
       "      <td>16.0</td>\n",
       "    </tr>\n",
       "  </tbody>\n",
       "</table>\n",
       "<p>1254672 rows × 7 columns</p>\n",
       "</div>"
      ],
      "text/plain": [
       "         PRODUCT_ID                              PRODUCT_NAME  \\\n",
       "0            952289             Lipstick queen reserved maiwu   \n",
       "1            121903                 Garbage Pail Kids blu ray   \n",
       "2            280534                         green floam/slime   \n",
       "3            787961                     Wallet beige monogram   \n",
       "4            479292          Triangle Bike Or Body Blue Light   \n",
       "...             ...                                       ...   \n",
       "1260149      259178                     Brooks brothers girls   \n",
       "1260150     1414414                  LulaRoe Randy size Large   \n",
       "1260151      131932                              This sale is   \n",
       "1260152      671155    Iphone headphone lightning cable split   \n",
       "1260153      121958  Glass Replacement Available iPhone 4,5,6   \n",
       "\n",
       "         PRODUCT_CONDITION                                           CATEGORY  \\\n",
       "0                        4                                 Beauty/Makeup/Lips   \n",
       "1                        3                          Electronics/Media/Blu-Ray   \n",
       "2                        1                            Kids/Toys/Arts & Crafts   \n",
       "3                        1                  Women/Women's Accessories/Wallets   \n",
       "4                        3                   Sports & Outdoors/Outdoors/Other   \n",
       "...                    ...                                                ...   \n",
       "1260149                  3                            Kids/Girls (4+)/Dresses   \n",
       "1260150                  1                      Women/Tops & Blouses/Knit Top   \n",
       "1260151                  1                      Kids/Toys/Dolls & Accessories   \n",
       "1260152                  1  Electronics/Cell Phones & Accessories/Cables &...   \n",
       "1260153                  1  Electronics/Cell Phones & Accessories/Cell Pho...   \n",
       "\n",
       "         SHIPPING_AVAILABILITY  \\\n",
       "0                            0   \n",
       "1                            1   \n",
       "2                            0   \n",
       "3                            0   \n",
       "4                            0   \n",
       "...                        ...   \n",
       "1260149                      0   \n",
       "1260150                      0   \n",
       "1260151                      0   \n",
       "1260152                      0   \n",
       "1260153                      1   \n",
       "\n",
       "                                       PRODUCT_DESCRIPTION  PRODUCT_PRICE  \n",
       "0        Lipstick Queen Jean Queen and medieval lipstic...           20.0  \n",
       "1        26Plays great. Tested. Watched once. No scratc...           15.0  \n",
       "2        -6 oz, dragon fruit scented - KEEP OUT OF REAC...            8.0  \n",
       "3                              Wallet brand new never used           31.0  \n",
       "4        Triangle Bike Or Body Blue Light, steady or fl...            8.0  \n",
       "...                                                    ...            ...  \n",
       "1260149  Beautiful dress, another of her favorites. Sz....           12.0  \n",
       "1260150  Brand new, never worn or washed, size Large, N...           34.0  \n",
       "1260151  American girl doll Tenney. Comes with the doll...           99.0  \n",
       "1260152                                 No description yet            9.0  \n",
       "1260153  Glass Replacement available iPhone 4, 5, 6, 6,...           16.0  \n",
       "\n",
       "[1254672 rows x 7 columns]"
      ]
     },
     "execution_count": 66,
     "metadata": {},
     "output_type": "execute_result"
    }
   ],
   "source": [
    "main_df.drop(axis=\"columns\", labels=\"PRODUCT_BRAND\", inplace=True) \n",
    "main_df"
   ]
  },
  {
   "cell_type": "markdown",
   "metadata": {},
   "source": [
    "### Encoding"
   ]
  },
  {
   "cell_type": "markdown",
   "metadata": {},
   "source": [
    "#### checking encoding requirement"
   ]
  },
  {
   "cell_type": "code",
   "execution_count": 67,
   "metadata": {},
   "outputs": [
    {
     "data": {
      "text/plain": [
       "((1048034,), (1275,), (1089010,))"
      ]
     },
     "execution_count": 67,
     "metadata": {},
     "output_type": "execute_result"
    }
   ],
   "source": [
    "main_df[\"PRODUCT_NAME\"].unique().shape,main_df[\"CATEGORY\"].unique().shape,main_df[\"PRODUCT_DESCRIPTION\"].unique().shape\n"
   ]
  },
  {
   "cell_type": "markdown",
   "metadata": {},
   "source": [
    "#### Dropping extra columns and remove duplicated values"
   ]
  },
  {
   "cell_type": "code",
   "execution_count": 68,
   "metadata": {},
   "outputs": [
    {
     "data": {
      "text/plain": [
       "1104002"
      ]
     },
     "execution_count": 68,
     "metadata": {},
     "output_type": "execute_result"
    }
   ],
   "source": [
    "main_df.drop(axis=\"columns\", labels=\"PRODUCT_NAME\", inplace=True) \n",
    "main_df.drop(axis=\"columns\", labels=\"PRODUCT_DESCRIPTION\", inplace=True) \n",
    "main_df.drop(axis=\"columns\", labels=\"PRODUCT_ID\", inplace=True) \n",
    "main_df.duplicated().sum()\n",
    "# main_df.drop(axis=\"rows\", labels=main_df.index[main_df.duplicated()], inplace=True)"
   ]
  },
  {
   "cell_type": "markdown",
   "metadata": {},
   "source": [
    "#### lable Encoding"
   ]
  },
  {
   "cell_type": "code",
   "execution_count": 69,
   "metadata": {},
   "outputs": [],
   "source": [
    "label_encoder = preprocessing.LabelEncoder()\n",
    "main_df[\"CATEGORY\"] = label_encoder.fit_transform(main_df[\"CATEGORY\"])\n"
   ]
  },
  {
   "cell_type": "markdown",
   "metadata": {},
   "source": [
    "#### dup values"
   ]
  },
  {
   "cell_type": "code",
   "execution_count": 70,
   "metadata": {},
   "outputs": [
    {
     "data": {
      "text/plain": [
       "1104002"
      ]
     },
     "execution_count": 70,
     "metadata": {},
     "output_type": "execute_result"
    }
   ],
   "source": [
    "main_df.duplicated().sum()\n",
    "# main_df.drop(axis=\"rows\", labels=main_df.index[main_df.duplicated()], inplace=True)"
   ]
  },
  {
   "cell_type": "code",
   "execution_count": 71,
   "metadata": {},
   "outputs": [
    {
     "data": {
      "text/html": [
       "<div>\n",
       "<style scoped>\n",
       "    .dataframe tbody tr th:only-of-type {\n",
       "        vertical-align: middle;\n",
       "    }\n",
       "\n",
       "    .dataframe tbody tr th {\n",
       "        vertical-align: top;\n",
       "    }\n",
       "\n",
       "    .dataframe thead th {\n",
       "        text-align: right;\n",
       "    }\n",
       "</style>\n",
       "<table border=\"1\" class=\"dataframe\">\n",
       "  <thead>\n",
       "    <tr style=\"text-align: right;\">\n",
       "      <th></th>\n",
       "      <th>PRODUCT_CONDITION</th>\n",
       "      <th>CATEGORY</th>\n",
       "      <th>SHIPPING_AVAILABILITY</th>\n",
       "      <th>PRODUCT_PRICE</th>\n",
       "    </tr>\n",
       "  </thead>\n",
       "  <tbody>\n",
       "    <tr>\n",
       "      <th>0</th>\n",
       "      <td>4</td>\n",
       "      <td>28</td>\n",
       "      <td>0</td>\n",
       "      <td>20.0</td>\n",
       "    </tr>\n",
       "    <tr>\n",
       "      <th>1</th>\n",
       "      <td>3</td>\n",
       "      <td>95</td>\n",
       "      <td>1</td>\n",
       "      <td>15.0</td>\n",
       "    </tr>\n",
       "    <tr>\n",
       "      <th>2</th>\n",
       "      <td>1</td>\n",
       "      <td>676</td>\n",
       "      <td>0</td>\n",
       "      <td>8.0</td>\n",
       "    </tr>\n",
       "    <tr>\n",
       "      <th>3</th>\n",
       "      <td>1</td>\n",
       "      <td>1264</td>\n",
       "      <td>0</td>\n",
       "      <td>31.0</td>\n",
       "    </tr>\n",
       "    <tr>\n",
       "      <th>4</th>\n",
       "      <td>3</td>\n",
       "      <td>916</td>\n",
       "      <td>0</td>\n",
       "      <td>8.0</td>\n",
       "    </tr>\n",
       "  </tbody>\n",
       "</table>\n",
       "</div>"
      ],
      "text/plain": [
       "   PRODUCT_CONDITION  CATEGORY  SHIPPING_AVAILABILITY  PRODUCT_PRICE\n",
       "0                  4        28                      0           20.0\n",
       "1                  3        95                      1           15.0\n",
       "2                  1       676                      0            8.0\n",
       "3                  1      1264                      0           31.0\n",
       "4                  3       916                      0            8.0"
      ]
     },
     "execution_count": 71,
     "metadata": {},
     "output_type": "execute_result"
    }
   ],
   "source": [
    "main_df.head()"
   ]
  },
  {
   "cell_type": "markdown",
   "metadata": {},
   "source": [
    "### Standardization"
   ]
  },
  {
   "cell_type": "markdown",
   "metadata": {},
   "source": []
  },
  {
   "cell_type": "markdown",
   "metadata": {},
   "source": [
    "#### all these commented (no use of standardisation)"
   ]
  },
  {
   "cell_type": "code",
   "execution_count": 72,
   "metadata": {},
   "outputs": [
    {
     "data": {
      "text/html": [
       "<div>\n",
       "<style scoped>\n",
       "    .dataframe tbody tr th:only-of-type {\n",
       "        vertical-align: middle;\n",
       "    }\n",
       "\n",
       "    .dataframe tbody tr th {\n",
       "        vertical-align: top;\n",
       "    }\n",
       "\n",
       "    .dataframe thead th {\n",
       "        text-align: right;\n",
       "    }\n",
       "</style>\n",
       "<table border=\"1\" class=\"dataframe\">\n",
       "  <thead>\n",
       "    <tr style=\"text-align: right;\">\n",
       "      <th></th>\n",
       "      <th>PRODUCT_CONDITION</th>\n",
       "      <th>CATEGORY</th>\n",
       "      <th>SHIPPING_AVAILABILITY</th>\n",
       "      <th>PRODUCT_PRICE</th>\n",
       "    </tr>\n",
       "  </thead>\n",
       "  <tbody>\n",
       "    <tr>\n",
       "      <th>0</th>\n",
       "      <td>4</td>\n",
       "      <td>28</td>\n",
       "      <td>0</td>\n",
       "      <td>20.0</td>\n",
       "    </tr>\n",
       "    <tr>\n",
       "      <th>1</th>\n",
       "      <td>3</td>\n",
       "      <td>95</td>\n",
       "      <td>1</td>\n",
       "      <td>15.0</td>\n",
       "    </tr>\n",
       "    <tr>\n",
       "      <th>2</th>\n",
       "      <td>1</td>\n",
       "      <td>676</td>\n",
       "      <td>0</td>\n",
       "      <td>8.0</td>\n",
       "    </tr>\n",
       "    <tr>\n",
       "      <th>3</th>\n",
       "      <td>1</td>\n",
       "      <td>1264</td>\n",
       "      <td>0</td>\n",
       "      <td>31.0</td>\n",
       "    </tr>\n",
       "    <tr>\n",
       "      <th>4</th>\n",
       "      <td>3</td>\n",
       "      <td>916</td>\n",
       "      <td>0</td>\n",
       "      <td>8.0</td>\n",
       "    </tr>\n",
       "  </tbody>\n",
       "</table>\n",
       "</div>"
      ],
      "text/plain": [
       "   PRODUCT_CONDITION  CATEGORY  SHIPPING_AVAILABILITY  PRODUCT_PRICE\n",
       "0                  4        28                      0           20.0\n",
       "1                  3        95                      1           15.0\n",
       "2                  1       676                      0            8.0\n",
       "3                  1      1264                      0           31.0\n",
       "4                  3       916                      0            8.0"
      ]
     },
     "execution_count": 72,
     "metadata": {},
     "output_type": "execute_result"
    }
   ],
   "source": [
    "main_df.head()"
   ]
  },
  {
   "cell_type": "code",
   "execution_count": 73,
   "metadata": {},
   "outputs": [],
   "source": [
    "# col = main_df[\"CATEGORY\"]\n",
    "# plt.hist(col, bins=150)\n",
    "# plt.show()"
   ]
  },
  {
   "cell_type": "code",
   "execution_count": 74,
   "metadata": {},
   "outputs": [],
   "source": [
    "# main_df.shape,main_df[\"PRODUCT_ID\"].nunique()\n"
   ]
  },
  {
   "cell_type": "code",
   "execution_count": 75,
   "metadata": {},
   "outputs": [],
   "source": [
    "# class MinMaxScaler:\n",
    "#     def __init__(self, minimum_elem, maximum_elem):\n",
    "#         self.minimum_elem = minimum_elem \n",
    "#         self.maximum_elem = maximum_elem \n",
    "    \n",
    "#     def scale(self, x):\n",
    "#         return (x - self.minimum_elem)/(self.maximum_elem - self.minimum_elem)"
   ]
  },
  {
   "cell_type": "code",
   "execution_count": 76,
   "metadata": {},
   "outputs": [],
   "source": [
    "# for i in range(main_df.shape[1]):\n",
    "#     main_df.iloc[:,i] = main_df.iloc[:,i].apply(MinMaxScaler(main_df.iloc[:,i].mean(), main_df.iloc[:,i].std()).scale)"
   ]
  },
  {
   "cell_type": "markdown",
   "metadata": {},
   "source": [
    "### Heat map\n"
   ]
  },
  {
   "cell_type": "code",
   "execution_count": 77,
   "metadata": {},
   "outputs": [
    {
     "data": {
      "text/plain": [
       "<AxesSubplot:>"
      ]
     },
     "execution_count": 77,
     "metadata": {},
     "output_type": "execute_result"
    },
    {
     "data": {
      "image/png": "[encoded data removed]",
      "text/plain": [
       "<Figure size 720x720 with 2 Axes>"
      ]
     },
     "metadata": {
      "needs_background": "light"
     },
     "output_type": "display_data"
    }
   ],
   "source": [
    "\n",
    "plt.figure(figsize=(10,10))\n",
    "sns.heatmap(main_df.corr(), vmin=-1, cmap=\"coolwarm\", annot=True)\n"
   ]
  },
  {
   "cell_type": "markdown",
   "metadata": {},
   "source": [
    "#### Extra"
   ]
  },
  {
   "cell_type": "code",
   "execution_count": 78,
   "metadata": {},
   "outputs": [
    {
     "data": {
      "text/plain": [
       "<AxesSubplot:>"
      ]
     },
     "execution_count": 78,
     "metadata": {},
     "output_type": "execute_result"
    },
    {
     "data": {
      "image/png": "[encoded data removed]",
      "text/plain": [
       "<Figure size 720x720 with 2 Axes>"
      ]
     },
     "metadata": {
      "needs_background": "light"
     },
     "output_type": "display_data"
    }
   ],
   "source": [
    "col = main_df[\"CATEGORY\"] / main_df[\"PRODUCT_CONDITION\"]\n",
    "col_2 = col * (1+ (main_df[\"SHIPPING_AVAILABILITY\"] * 1))\n",
    "main_df[\"col\"] = col\n",
    "main_df[\"col2\"] = col_2\n",
    "\n",
    "plt.figure(figsize=(10,10))\n",
    "sns.heatmap(main_df.corr(), vmin=-1, cmap=\"coolwarm\", annot=True)"
   ]
  },
  {
   "cell_type": "code",
   "execution_count": 79,
   "metadata": {},
   "outputs": [
    {
     "data": {
      "image/png": "[encoded data removed]",
      "text/plain": [
       "<Figure size 432x288 with 1 Axes>"
      ]
     },
     "metadata": {
      "needs_background": "light"
     },
     "output_type": "display_data"
    }
   ],
   "source": [
    "y = main_df.iloc[:,3].to_numpy().astype(np.float64)\n",
    "x = main_df.iloc[:,1].to_numpy().astype(np.float64)\n",
    "\n",
    "\n",
    "\n",
    "plt.scatter(x,y)\n",
    "plt.show()"
   ]
  },
  {
   "cell_type": "markdown",
   "metadata": {},
   "source": []
  },
  {
   "cell_type": "code",
   "execution_count": 80,
   "metadata": {},
   "outputs": [
    {
     "data": {
      "text/html": [
       "<div>\n",
       "<style scoped>\n",
       "    .dataframe tbody tr th:only-of-type {\n",
       "        vertical-align: middle;\n",
       "    }\n",
       "\n",
       "    .dataframe tbody tr th {\n",
       "        vertical-align: top;\n",
       "    }\n",
       "\n",
       "    .dataframe thead th {\n",
       "        text-align: right;\n",
       "    }\n",
       "</style>\n",
       "<table border=\"1\" class=\"dataframe\">\n",
       "  <thead>\n",
       "    <tr style=\"text-align: right;\">\n",
       "      <th></th>\n",
       "      <th>PRODUCT_CONDITION</th>\n",
       "      <th>CATEGORY</th>\n",
       "      <th>SHIPPING_AVAILABILITY</th>\n",
       "      <th>PRODUCT_PRICE</th>\n",
       "      <th>col</th>\n",
       "      <th>col2</th>\n",
       "    </tr>\n",
       "  </thead>\n",
       "  <tbody>\n",
       "    <tr>\n",
       "      <th>0</th>\n",
       "      <td>4</td>\n",
       "      <td>28</td>\n",
       "      <td>0</td>\n",
       "      <td>20.0</td>\n",
       "      <td>7.000000</td>\n",
       "      <td>7.000000</td>\n",
       "    </tr>\n",
       "    <tr>\n",
       "      <th>1</th>\n",
       "      <td>3</td>\n",
       "      <td>95</td>\n",
       "      <td>1</td>\n",
       "      <td>15.0</td>\n",
       "      <td>31.666667</td>\n",
       "      <td>63.333333</td>\n",
       "    </tr>\n",
       "    <tr>\n",
       "      <th>2</th>\n",
       "      <td>1</td>\n",
       "      <td>676</td>\n",
       "      <td>0</td>\n",
       "      <td>8.0</td>\n",
       "      <td>676.000000</td>\n",
       "      <td>676.000000</td>\n",
       "    </tr>\n",
       "    <tr>\n",
       "      <th>3</th>\n",
       "      <td>1</td>\n",
       "      <td>1264</td>\n",
       "      <td>0</td>\n",
       "      <td>31.0</td>\n",
       "      <td>1264.000000</td>\n",
       "      <td>1264.000000</td>\n",
       "    </tr>\n",
       "    <tr>\n",
       "      <th>4</th>\n",
       "      <td>3</td>\n",
       "      <td>916</td>\n",
       "      <td>0</td>\n",
       "      <td>8.0</td>\n",
       "      <td>305.333333</td>\n",
       "      <td>305.333333</td>\n",
       "    </tr>\n",
       "    <tr>\n",
       "      <th>...</th>\n",
       "      <td>...</td>\n",
       "      <td>...</td>\n",
       "      <td>...</td>\n",
       "      <td>...</td>\n",
       "      <td>...</td>\n",
       "      <td>...</td>\n",
       "    </tr>\n",
       "    <tr>\n",
       "      <th>1260149</th>\n",
       "      <td>3</td>\n",
       "      <td>607</td>\n",
       "      <td>0</td>\n",
       "      <td>12.0</td>\n",
       "      <td>202.333333</td>\n",
       "      <td>202.333333</td>\n",
       "    </tr>\n",
       "    <tr>\n",
       "      <th>1260150</th>\n",
       "      <td>1</td>\n",
       "      <td>1245</td>\n",
       "      <td>0</td>\n",
       "      <td>34.0</td>\n",
       "      <td>1245.000000</td>\n",
       "      <td>1245.000000</td>\n",
       "    </tr>\n",
       "    <tr>\n",
       "      <th>1260151</th>\n",
       "      <td>1</td>\n",
       "      <td>679</td>\n",
       "      <td>0</td>\n",
       "      <td>99.0</td>\n",
       "      <td>679.000000</td>\n",
       "      <td>679.000000</td>\n",
       "    </tr>\n",
       "    <tr>\n",
       "      <th>1260152</th>\n",
       "      <td>1</td>\n",
       "      <td>78</td>\n",
       "      <td>0</td>\n",
       "      <td>9.0</td>\n",
       "      <td>78.000000</td>\n",
       "      <td>78.000000</td>\n",
       "    </tr>\n",
       "    <tr>\n",
       "      <th>1260153</th>\n",
       "      <td>1</td>\n",
       "      <td>81</td>\n",
       "      <td>1</td>\n",
       "      <td>16.0</td>\n",
       "      <td>81.000000</td>\n",
       "      <td>162.000000</td>\n",
       "    </tr>\n",
       "  </tbody>\n",
       "</table>\n",
       "<p>1254672 rows × 6 columns</p>\n",
       "</div>"
      ],
      "text/plain": [
       "         PRODUCT_CONDITION  CATEGORY  SHIPPING_AVAILABILITY  PRODUCT_PRICE  \\\n",
       "0                        4        28                      0           20.0   \n",
       "1                        3        95                      1           15.0   \n",
       "2                        1       676                      0            8.0   \n",
       "3                        1      1264                      0           31.0   \n",
       "4                        3       916                      0            8.0   \n",
       "...                    ...       ...                    ...            ...   \n",
       "1260149                  3       607                      0           12.0   \n",
       "1260150                  1      1245                      0           34.0   \n",
       "1260151                  1       679                      0           99.0   \n",
       "1260152                  1        78                      0            9.0   \n",
       "1260153                  1        81                      1           16.0   \n",
       "\n",
       "                 col         col2  \n",
       "0           7.000000     7.000000  \n",
       "1          31.666667    63.333333  \n",
       "2         676.000000   676.000000  \n",
       "3        1264.000000  1264.000000  \n",
       "4         305.333333   305.333333  \n",
       "...              ...          ...  \n",
       "1260149   202.333333   202.333333  \n",
       "1260150  1245.000000  1245.000000  \n",
       "1260151   679.000000   679.000000  \n",
       "1260152    78.000000    78.000000  \n",
       "1260153    81.000000   162.000000  \n",
       "\n",
       "[1254672 rows x 6 columns]"
      ]
     },
     "execution_count": 80,
     "metadata": {},
     "output_type": "execute_result"
    }
   ],
   "source": [
    "main_df"
   ]
  }
 ],
 "metadata": {
  "kernelspec": {
   "display_name": "Python 3.10.5 64-bit",
   "language": "python",
   "name": "python3"
  },
  "language_info": {
   "codemirror_mode": {
    "name": "ipython",
    "version": 3
   },
   "file_extension": ".py",
   "mimetype": "text/x-python",
   "name": "python",
   "nbconvert_exporter": "python",
   "pygments_lexer": "ipython3",
   "version": "3.10.5"
  },
  "orig_nbformat": 4,
  "vscode": {
   "interpreter": {
    "hash": "369f2c481f4da34e4445cda3fffd2e751bd1c4d706f27375911949ba6bb62e1c"
   }
  }
 },
 "nbformat": 4,
 "nbformat_minor": 2
}
